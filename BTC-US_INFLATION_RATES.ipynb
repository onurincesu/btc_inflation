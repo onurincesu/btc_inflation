{
 "cells": [
  {
   "cell_type": "code",
   "execution_count": 198,
   "id": "44e293c7",
   "metadata": {},
   "outputs": [],
   "source": [
    "import pandas as pd\n",
    "import numpy as np"
   ]
  },
  {
   "cell_type": "code",
   "execution_count": 199,
   "id": "02a96a7e",
   "metadata": {},
   "outputs": [],
   "source": [
    "df=pd.read_csv(\"BTC-USD(1).csv\")\n",
    "df1=pd.read_csv(\"MICH.csv\")"
   ]
  },
  {
   "cell_type": "code",
   "execution_count": 200,
   "id": "9c874afc",
   "metadata": {},
   "outputs": [],
   "source": [
    "df=df.drop(columns=[\"Date\",\"High\",\"Low\",\"Close\",\"Adj Close\",\"Volume\"])"
   ]
  },
  {
   "cell_type": "code",
   "execution_count": 201,
   "id": "915f9526",
   "metadata": {},
   "outputs": [],
   "source": [
    "df1 = df1.rename(columns={'DATE': 'Date', 'MICH': 'Rate'})"
   ]
  },
  {
   "cell_type": "code",
   "execution_count": 202,
   "id": "06068799",
   "metadata": {},
   "outputs": [],
   "source": [
    "df=df.rename(columns={\"Open\":\"Price\"})"
   ]
  },
  {
   "cell_type": "code",
   "execution_count": 203,
   "id": "9c4d3ea9",
   "metadata": {},
   "outputs": [],
   "source": [
    "result = pd.concat([df1, df], axis=1)"
   ]
  },
  {
   "cell_type": "code",
   "execution_count": 204,
   "id": "cad6385e",
   "metadata": {},
   "outputs": [],
   "source": [
    "result1=result.copy()"
   ]
  },
  {
   "cell_type": "code",
   "execution_count": 205,
   "id": "f441c9ec",
   "metadata": {},
   "outputs": [],
   "source": [
    "\n",
    "result1['Rate_1']= result1['Rate'] *10000\n"
   ]
  },
  {
   "cell_type": "code",
   "execution_count": 206,
   "id": "0cf2ee61",
   "metadata": {},
   "outputs": [
    {
     "data": {
      "text/html": [
       "<div>\n",
       "<style scoped>\n",
       "    .dataframe tbody tr th:only-of-type {\n",
       "        vertical-align: middle;\n",
       "    }\n",
       "\n",
       "    .dataframe tbody tr th {\n",
       "        vertical-align: top;\n",
       "    }\n",
       "\n",
       "    .dataframe thead th {\n",
       "        text-align: right;\n",
       "    }\n",
       "</style>\n",
       "<table border=\"1\" class=\"dataframe\">\n",
       "  <thead>\n",
       "    <tr style=\"text-align: right;\">\n",
       "      <th></th>\n",
       "      <th>Date</th>\n",
       "      <th>Price</th>\n",
       "    </tr>\n",
       "  </thead>\n",
       "  <tbody>\n",
       "    <tr>\n",
       "      <th>0</th>\n",
       "      <td>2018-01-01</td>\n",
       "      <td>14112.200195</td>\n",
       "    </tr>\n",
       "    <tr>\n",
       "      <th>1</th>\n",
       "      <td>2018-02-01</td>\n",
       "      <td>10237.299805</td>\n",
       "    </tr>\n",
       "    <tr>\n",
       "      <th>2</th>\n",
       "      <td>2018-03-01</td>\n",
       "      <td>10385.000000</td>\n",
       "    </tr>\n",
       "    <tr>\n",
       "      <th>3</th>\n",
       "      <td>2018-04-01</td>\n",
       "      <td>7003.060059</td>\n",
       "    </tr>\n",
       "    <tr>\n",
       "      <th>4</th>\n",
       "      <td>2018-05-01</td>\n",
       "      <td>9251.469727</td>\n",
       "    </tr>\n",
       "    <tr>\n",
       "      <th>...</th>\n",
       "      <td>...</td>\n",
       "      <td>...</td>\n",
       "    </tr>\n",
       "    <tr>\n",
       "      <th>56</th>\n",
       "      <td>2022-09-01</td>\n",
       "      <td>20050.498047</td>\n",
       "    </tr>\n",
       "    <tr>\n",
       "      <th>57</th>\n",
       "      <td>2022-10-01</td>\n",
       "      <td>19431.105469</td>\n",
       "    </tr>\n",
       "    <tr>\n",
       "      <th>58</th>\n",
       "      <td>2022-11-01</td>\n",
       "      <td>20494.898438</td>\n",
       "    </tr>\n",
       "    <tr>\n",
       "      <th>59</th>\n",
       "      <td>2022-12-01</td>\n",
       "      <td>17168.001953</td>\n",
       "    </tr>\n",
       "    <tr>\n",
       "      <th>60</th>\n",
       "      <td>2023-01-01</td>\n",
       "      <td>16547.914063</td>\n",
       "    </tr>\n",
       "  </tbody>\n",
       "</table>\n",
       "<p>61 rows × 2 columns</p>\n",
       "</div>"
      ],
      "text/plain": [
       "          Date         Price\n",
       "0   2018-01-01  14112.200195\n",
       "1   2018-02-01  10237.299805\n",
       "2   2018-03-01  10385.000000\n",
       "3   2018-04-01   7003.060059\n",
       "4   2018-05-01   9251.469727\n",
       "..         ...           ...\n",
       "56  2022-09-01  20050.498047\n",
       "57  2022-10-01  19431.105469\n",
       "58  2022-11-01  20494.898438\n",
       "59  2022-12-01  17168.001953\n",
       "60  2023-01-01  16547.914063\n",
       "\n",
       "[61 rows x 2 columns]"
      ]
     },
     "execution_count": 206,
     "metadata": {},
     "output_type": "execute_result"
    }
   ],
   "source": [
    "result.drop(columns=[\"Rate\"])"
   ]
  },
  {
   "cell_type": "code",
   "execution_count": 207,
   "id": "d7721ec9",
   "metadata": {},
   "outputs": [
    {
     "data": {
      "text/plain": [
       "<AxesSubplot:>"
      ]
     },
     "execution_count": 207,
     "metadata": {},
     "output_type": "execute_result"
    },
    {
     "data": {
      "image/png": "[encoded data removed]",
      "text/plain": [
       "<Figure size 640x480 with 1 Axes>"
      ]
     },
     "metadata": {},
     "output_type": "display_data"
    }
   ],
   "source": [
    "result1.plot()"
   ]
  },
  {
   "cell_type": "code",
   "execution_count": 208,
   "id": "b43db8fe",
   "metadata": {},
   "outputs": [
    {
     "data": {
      "text/html": [
       "<div>\n",
       "<style scoped>\n",
       "    .dataframe tbody tr th:only-of-type {\n",
       "        vertical-align: middle;\n",
       "    }\n",
       "\n",
       "    .dataframe tbody tr th {\n",
       "        vertical-align: top;\n",
       "    }\n",
       "\n",
       "    .dataframe thead th {\n",
       "        text-align: right;\n",
       "    }\n",
       "</style>\n",
       "<table border=\"1\" class=\"dataframe\">\n",
       "  <thead>\n",
       "    <tr style=\"text-align: right;\">\n",
       "      <th></th>\n",
       "      <th>Date</th>\n",
       "      <th>Rate</th>\n",
       "      <th>Price</th>\n",
       "      <th>Rate_1</th>\n",
       "    </tr>\n",
       "  </thead>\n",
       "  <tbody>\n",
       "    <tr>\n",
       "      <th>0</th>\n",
       "      <td>2018-01-01</td>\n",
       "      <td>2.7</td>\n",
       "      <td>14112.200195</td>\n",
       "      <td>27000.0</td>\n",
       "    </tr>\n",
       "    <tr>\n",
       "      <th>1</th>\n",
       "      <td>2018-02-01</td>\n",
       "      <td>2.7</td>\n",
       "      <td>10237.299805</td>\n",
       "      <td>27000.0</td>\n",
       "    </tr>\n",
       "    <tr>\n",
       "      <th>2</th>\n",
       "      <td>2018-03-01</td>\n",
       "      <td>2.8</td>\n",
       "      <td>10385.000000</td>\n",
       "      <td>28000.0</td>\n",
       "    </tr>\n",
       "    <tr>\n",
       "      <th>3</th>\n",
       "      <td>2018-04-01</td>\n",
       "      <td>2.7</td>\n",
       "      <td>7003.060059</td>\n",
       "      <td>27000.0</td>\n",
       "    </tr>\n",
       "    <tr>\n",
       "      <th>4</th>\n",
       "      <td>2018-05-01</td>\n",
       "      <td>2.8</td>\n",
       "      <td>9251.469727</td>\n",
       "      <td>28000.0</td>\n",
       "    </tr>\n",
       "    <tr>\n",
       "      <th>...</th>\n",
       "      <td>...</td>\n",
       "      <td>...</td>\n",
       "      <td>...</td>\n",
       "      <td>...</td>\n",
       "    </tr>\n",
       "    <tr>\n",
       "      <th>56</th>\n",
       "      <td>2022-09-01</td>\n",
       "      <td>4.7</td>\n",
       "      <td>20050.498047</td>\n",
       "      <td>47000.0</td>\n",
       "    </tr>\n",
       "    <tr>\n",
       "      <th>57</th>\n",
       "      <td>2022-10-01</td>\n",
       "      <td>5.0</td>\n",
       "      <td>19431.105469</td>\n",
       "      <td>50000.0</td>\n",
       "    </tr>\n",
       "    <tr>\n",
       "      <th>58</th>\n",
       "      <td>2022-11-01</td>\n",
       "      <td>4.9</td>\n",
       "      <td>20494.898438</td>\n",
       "      <td>49000.0</td>\n",
       "    </tr>\n",
       "    <tr>\n",
       "      <th>59</th>\n",
       "      <td>2022-12-01</td>\n",
       "      <td>4.4</td>\n",
       "      <td>17168.001953</td>\n",
       "      <td>44000.0</td>\n",
       "    </tr>\n",
       "    <tr>\n",
       "      <th>60</th>\n",
       "      <td>2023-01-01</td>\n",
       "      <td>3.9</td>\n",
       "      <td>16547.914063</td>\n",
       "      <td>39000.0</td>\n",
       "    </tr>\n",
       "  </tbody>\n",
       "</table>\n",
       "<p>61 rows × 4 columns</p>\n",
       "</div>"
      ],
      "text/plain": [
       "          Date  Rate         Price   Rate_1\n",
       "0   2018-01-01   2.7  14112.200195  27000.0\n",
       "1   2018-02-01   2.7  10237.299805  27000.0\n",
       "2   2018-03-01   2.8  10385.000000  28000.0\n",
       "3   2018-04-01   2.7   7003.060059  27000.0\n",
       "4   2018-05-01   2.8   9251.469727  28000.0\n",
       "..         ...   ...           ...      ...\n",
       "56  2022-09-01   4.7  20050.498047  47000.0\n",
       "57  2022-10-01   5.0  19431.105469  50000.0\n",
       "58  2022-11-01   4.9  20494.898438  49000.0\n",
       "59  2022-12-01   4.4  17168.001953  44000.0\n",
       "60  2023-01-01   3.9  16547.914063  39000.0\n",
       "\n",
       "[61 rows x 4 columns]"
      ]
     },
     "execution_count": 208,
     "metadata": {},
     "output_type": "execute_result"
    }
   ],
   "source": [
    "result1"
   ]
  },
  {
   "cell_type": "code",
   "execution_count": 209,
   "id": "baa66428",
   "metadata": {},
   "outputs": [],
   "source": [
    "X = result1[\"Price\"]\n",
    "y = result1.drop(columns=[\"Price\",\"Rate\",\"Date\"],axis=1)\n"
   ]
  },
  {
   "cell_type": "code",
   "execution_count": 210,
   "id": "9f463503",
   "metadata": {},
   "outputs": [],
   "source": [
    "X=X.astype(int)\n",
    "y=y.astype(int)"
   ]
  },
  {
   "cell_type": "code",
   "execution_count": 18,
   "id": "bfa8614f",
   "metadata": {},
   "outputs": [
    {
     "name": "stdout",
     "output_type": "stream",
     "text": [
      "0.5842311416248571 51093023.255813956\n"
     ]
    }
   ],
   "source": [
    "from sklearn.tree import DecisionTreeClassifier\n",
    "from sklearn.linear_model import Ridge,Lasso,ElasticNet\n",
    "from sklearn.model_selection import train_test_split\n",
    "import sklearn.metrics as mt\n",
    "\n",
    "X_train, X_test, y_train, y_test = train_test_split(X, y, test_size=0.7, random_state=1)\n",
    "model=DecisionTreeClassifier(random_state=5,max_leaf_nodes=21)\n",
    "model.fit(X_train.values.reshape(-1,1),y_train)\n",
    "tahmin=model.predict(X_test.values.reshape(-1,1))\n",
    "r2=mt.r2_score(y_test,tahmin)\n",
    "mse=mt.mean_squared_error(y_test,tahmin)\n",
    "print(r2,mse)\n"
   ]
  },
  {
   "cell_type": "code",
   "execution_count": null,
   "id": "1341f846",
   "metadata": {},
   "outputs": [],
   "source": []
  }
 ],
 "metadata": {
  "kernelspec": {
   "display_name": "Python 3 (ipykernel)",
   "language": "python",
   "name": "python3"
  },
  "language_info": {
   "codemirror_mode": {
    "name": "ipython",
    "version": 3
   },
   "file_extension": ".py",
   "mimetype": "text/x-python",
   "name": "python",
   "nbconvert_exporter": "python",
   "pygments_lexer": "ipython3",
   "version": "3.9.13"
  }
 },
 "nbformat": 4,
 "nbformat_minor": 5
}
